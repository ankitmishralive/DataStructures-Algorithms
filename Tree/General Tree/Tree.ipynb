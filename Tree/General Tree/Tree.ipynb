{
 "cells": [
  {
   "attachments": {},
   "cell_type": "markdown",
   "metadata": {},
   "source": [
    "Tree 1 recursive data structure hai "
   ]
  },
  {
   "cell_type": "code",
   "execution_count": 47,
   "metadata": {},
   "outputs": [],
   "source": [
    "class TreeNode:\n",
    "    def __init__(self,data):\n",
    "        self.data = data \n",
    "        self.children = []\n",
    "        self.parent= None \n",
    "    \n",
    "    def add_child(self,child):\n",
    "        child.parent = self\n",
    "        self.children.append(child)\n",
    "\n",
    "    def get_level(self):\n",
    "        level  = 0 \n",
    "        p = self.parent \n",
    "        while p:\n",
    "            level +=  1 \n",
    "            p = p.parent \n",
    "        return level \n",
    "    \n",
    "    def print_tree(self):\n",
    "        spaces = ' '* self.get_level() * 3\n",
    "        prefix = spaces + \"|__\" if self.parent else \"\"\n",
    "        print(prefix,self.data)\n",
    "        for child in self.children:\n",
    "            child.print_tree()\n",
    "            # print(child.data)\n",
    "            \n",
    "        "
   ]
  },
  {
   "cell_type": "code",
   "execution_count": 42,
   "metadata": {},
   "outputs": [],
   "source": [
    "def build_product_tree():\n",
    "    root = TreeNode('Maths')\n",
    "    laptop = TreeNode('laptop')\n",
    "    laptop.add_child(TreeNode('Mac'))\n",
    "    laptop.add_child(TreeNode('Surface'))\n",
    "    laptop.add_child(TreeNode('Linux'))\n",
    "\n",
    "    cellPhone = TreeNode('CellPhones')\n",
    "    cellPhone.add_child(TreeNode('Iphone'))\n",
    "    cellPhone.add_child(TreeNode('Pixel'))\n",
    "    cellPhone.add_child(TreeNode('Blackberry'))\n",
    "\n",
    "    TV = TreeNode('TV')\n",
    "    TV.add_child(TreeNode(\"Samsung\"))\n",
    "    TV.add_child(TreeNode(\"LG\"))\n",
    "\n",
    "    root.add_child(laptop)\n",
    "    root.add_child(cellPhone)\n",
    "    root.add_child(TV)\n",
    "\n",
    "    root.print_tree()"
   ]
  },
  {
   "cell_type": "code",
   "execution_count": 48,
   "metadata": {},
   "outputs": [
    {
     "name": "stdout",
     "output_type": "stream",
     "text": [
      " Maths\n",
      "   |__ laptop\n",
      "      |__ Mac\n",
      "      |__ Surface\n",
      "      |__ Linux\n",
      "   |__ CellPhones\n",
      "      |__ Iphone\n",
      "      |__ Pixel\n",
      "      |__ Blackberry\n",
      "   |__ TV\n",
      "      |__ Samsung\n",
      "      |__ LG\n"
     ]
    }
   ],
   "source": [
    "root = build_product_tree()\n"
   ]
  },
  {
   "attachments": {},
   "cell_type": "markdown",
   "metadata": {},
   "source": [
    "# *Applications*"
   ]
  },
  {
   "attachments": {},
   "cell_type": "markdown",
   "metadata": {},
   "source": [
    "- Compilers use a syntax tree to validate the syntax of every program we write.\n",
    "\n",
    "- Most popular databases use B-Trees and T-Trees, which are variants of the tree structure we learned above to store their data. \n",
    "\n",
    "- A modififed version of a tree called Tries is used in modern routers to store routing information.\n",
    "\n",
    "- BST are used to quickly check whether an element is present in a set or not.\n",
    "\n"
   ]
  }
 ],
 "metadata": {
  "kernelspec": {
   "display_name": "base",
   "language": "python",
   "name": "python3"
  },
  "language_info": {
   "codemirror_mode": {
    "name": "ipython",
    "version": 3
   },
   "file_extension": ".py",
   "mimetype": "text/x-python",
   "name": "python",
   "nbconvert_exporter": "python",
   "pygments_lexer": "ipython3",
   "version": "3.9.13"
  },
  "orig_nbformat": 4
 },
 "nbformat": 4,
 "nbformat_minor": 2
}
