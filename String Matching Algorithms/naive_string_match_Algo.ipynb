{
 "cells": [
  {
   "attachments": {},
   "cell_type": "markdown",
   "metadata": {},
   "source": [
    "Naive String Algorithm:  \n",
    "i) It is the simplest method which uses brute force approach. \n",
    "\n",
    "ii) It is a straight forward approach of solving the problem.\n",
    "\n",
    "iii) It compares first character of pattern with searchable text. If match is found, pointers in both strings are advanced. If match not found, pointer of text is incremented and pointer ofpattern is reset. This process is repeated until the end of the text.\n",
    "\n",
    "iv) It does not require any pre-processing. It directly starts comparing both strings character by character."
   ]
  },
  {
   "cell_type": "code",
   "execution_count": 2,
   "metadata": {},
   "outputs": [
    {
     "name": "stdout",
     "output_type": "stream",
     "text": [
      "Pattern at Index : 8\n"
     ]
    }
   ],
   "source": [
    "def search(pat,text):\n",
    "    length_of_pattern = len(pat)\n",
    "    lenght_of_text = len(text)\n",
    "\n",
    "   # Loop for iterating  towards pattern one by one\n",
    "    for i in range(lenght_of_text-length_of_pattern):\n",
    "        shift = 1\n",
    "\n",
    "        # current index i , check for pattern match\n",
    "        while (shift<length_of_pattern):\n",
    "            if(text[i+shift]!=pat[shift]):\n",
    "                break\n",
    "            shift +=1\n",
    "\n",
    "        if (shift==length_of_pattern):\n",
    "            print(\"Pattern at Index :\",i)\n",
    "\n",
    "txt = 'AASBAACZAABAAC'\n",
    "pat = 'AABAA'\n",
    "search(pat,txt)"
   ]
  },
  {
   "cell_type": "code",
   "execution_count": null,
   "metadata": {},
   "outputs": [],
   "source": []
  }
 ],
 "metadata": {
  "kernelspec": {
   "display_name": "Python 3",
   "language": "python",
   "name": "python3"
  },
  "language_info": {
   "codemirror_mode": {
    "name": "ipython",
    "version": 3
   },
   "file_extension": ".py",
   "mimetype": "text/x-python",
   "name": "python",
   "nbconvert_exporter": "python",
   "pygments_lexer": "ipython3",
   "version": "3.9.13"
  },
  "orig_nbformat": 4
 },
 "nbformat": 4,
 "nbformat_minor": 2
}
