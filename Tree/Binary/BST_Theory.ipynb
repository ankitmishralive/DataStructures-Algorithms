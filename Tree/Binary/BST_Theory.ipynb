{
 "cells": [
  {
   "attachments": {},
   "cell_type": "markdown",
   "metadata": {},
   "source": [
    "# *BST Theory*"
   ]
  },
  {
   "attachments": {},
   "cell_type": "markdown",
   "metadata": {},
   "source": [
    "Binary Search Tree is a data structure that quickly allow us to maintain a sorted list of numbers.\n",
    "\n",
    "In Binary Search Tree , \n",
    "the subtree of left node will always have a value less than its parent Node \n",
    "\n",
    "while in the right node subtree the value will always be greater than its parent node."
   ]
  },
  {
   "attachments": {},
   "cell_type": "markdown",
   "metadata": {},
   "source": [
    "Benefits: \n",
    "- It makes searching easy\n",
    "- We able to solve our problem in less iteration."
   ]
  },
  {
   "attachments": {},
   "cell_type": "markdown",
   "metadata": {},
   "source": [
    "*BST Applications*\n",
    "\n",
    "1. In multilevel indexing in the database\n",
    "2. For Dynamic Sorting \n",
    "3. For managing virutal memory areas in Unix Kernel "
   ]
  }
 ],
 "metadata": {
  "language_info": {
   "name": "python"
  },
  "orig_nbformat": 4
 },
 "nbformat": 4,
 "nbformat_minor": 2
}
