{
 "cells": [
  {
   "cell_type": "markdown",
   "metadata": {},
   "source": []
  },
  {
   "cell_type": "code",
   "execution_count": 1,
   "metadata": {},
   "outputs": [
    {
     "name": "stdout",
     "output_type": "stream",
     "text": [
      "Found pattern at index 10\n"
     ]
    }
   ],
   "source": [
    "# Python3 program for KMP Algorithm\n",
    "def KMPSearch(pat, txt):\n",
    "\tM = len(pat)\n",
    "\tN = len(txt)\n",
    "\n",
    "\t# create lps[] that will hold the longest prefix suffix\n",
    "\t# values for pattern\n",
    "\tlps = [0]*M\n",
    "\tj = 0 # index for pat[]\n",
    "\n",
    "\t# Preprocess the pattern (calculate lps[] array)\n",
    "\tcomputeLPSArray(pat, M, lps)\n",
    "\n",
    "\ti = 0 # index for txt[]\n",
    "\twhile (N - i) >= (M - j):\n",
    "\t\tif pat[j] == txt[i]:\n",
    "\t\t\ti += 1\n",
    "\t\t\tj += 1\n",
    "\n",
    "\t\tif j == M:\n",
    "\t\t\tprint(\"Found pattern at index \" + str(i-j))\n",
    "\t\t\tj = lps[j-1]\n",
    "\n",
    "\t\t# mismatch after j matches\n",
    "\t\telif i < N and pat[j] != txt[i]:\n",
    "\t\t\t# Do not match lps[0..lps[j-1]] characters,\n",
    "\t\t\t# they will match anyway\n",
    "\t\t\tif j != 0:\n",
    "\t\t\t\tj = lps[j-1]\n",
    "\t\t\telse:\n",
    "\t\t\t\ti += 1\n",
    "\n",
    "\n",
    "def computeLPSArray(pat, M, lps):\n",
    "\tlen = 0 # length of the previous longest prefix suffix\n",
    "\n",
    "\tlps[0] = 0 # lps[0] is always 0\n",
    "\ti = 1\n",
    "\n",
    "\t# the loop calculates lps[i] for i = 1 to M-1\n",
    "\twhile i < M:\n",
    "\t\tif pat[i] == pat[len]:\n",
    "\t\t\tlen += 1\n",
    "\t\t\tlps[i] = len\n",
    "\t\t\ti += 1\n",
    "\t\telse:\n",
    "\t\t\t# This is tricky. Consider the example.\n",
    "\t\t\t# AAACAAAA and i = 7. The idea is similar\n",
    "\t\t\t# to search step.\n",
    "\t\t\tif len != 0:\n",
    "\t\t\t\tlen = lps[len-1]\n",
    "\n",
    "\t\t\t\t# Also, note that we do not increment i here\n",
    "\t\t\telse:\n",
    "\t\t\t\tlps[i] = 0\n",
    "\t\t\t\ti += 1\n",
    "\n",
    "\n",
    "txt = \"ABABDABACDABABCABAB\"\n",
    "pat = \"ABABCABAB\"\n",
    "KMPSearch(pat, txt)\n",
    "\n",
    "# This code is contributed by Bhavya Jain"
   ]
  }
 ],
 "metadata": {
  "kernelspec": {
   "display_name": "Python 3",
   "language": "python",
   "name": "python3"
  },
  "language_info": {
   "codemirror_mode": {
    "name": "ipython",
    "version": 3
   },
   "file_extension": ".py",
   "mimetype": "text/x-python",
   "name": "python",
   "nbconvert_exporter": "python",
   "pygments_lexer": "ipython3",
   "version": "3.9.13"
  },
  "orig_nbformat": 4
 },
 "nbformat": 4,
 "nbformat_minor": 2
}
