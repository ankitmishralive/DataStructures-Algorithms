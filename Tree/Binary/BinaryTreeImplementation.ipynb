{
 "cells": [
  {
   "cell_type": "code",
   "execution_count": 10,
   "metadata": {},
   "outputs": [],
   "source": [
    "class BinarySearchTreeNode:\n",
    "    def __init__(self,data):\n",
    "        self.data = data \n",
    "        self.left = None\n",
    "        self.right = None \n",
    "    \n",
    "    def add_child(self,data):\n",
    "        if data == self.data:\n",
    "            return # Node already exist \n",
    "        if data < self.data:\n",
    "            if self.left:\n",
    "              # insert into left \n",
    "              self.left.add_child(data)\n",
    "            else:\n",
    "                self.left = BinarySearchTreeNode(data)\n",
    "        else:\n",
    "            if self.right:\n",
    "              # insert into right  \n",
    "              self.right.add_child(data)\n",
    "            else:\n",
    "                self.right = BinarySearchTreeNode(data)\n",
    "    def in_order_traversal(self):\n",
    "        elements = []\n",
    "        # visit left \n",
    "        if self.left:\n",
    "            left_elements = self.left.in_order_traversal()\n",
    "            elements += left_elements\n",
    "        \n",
    "        elements.append(self.data)\n",
    "\n",
    "        # visit node itself.\n",
    "        # visit right \n",
    "        if self.right:\n",
    "            right_elements = self.right.in_order_traversal()\n",
    "            elements +=  right_elements \n",
    "        return elements"
   ]
  },
  {
   "cell_type": "code",
   "execution_count": 11,
   "metadata": {},
   "outputs": [],
   "source": [
    "def build_tree(elements):\n",
    "    print(\"Building Tree with :\",elements)\n",
    "    # root = BinarySearchTreeNode(elements[0])\n",
    "    root = BinarySearchTreeNode(elements[0])\n",
    "\n",
    "    for i in range(1,len(elements)):\n",
    "        root.add_child(elements[i])\n",
    "   \n",
    "    return root"
   ]
  },
  {
   "cell_type": "code",
   "execution_count": 12,
   "metadata": {},
   "outputs": [
    {
     "name": "stdout",
     "output_type": "stream",
     "text": [
      "Building Tree with : [55, 26, 70, 45, 10, 15, 5]\n",
      "[5, 10, 15, 26, 45, 55, 70]\n"
     ]
    }
   ],
   "source": [
    "# numbers = [9,10,20,0,11,999,89]\n",
    "numbers =[55,26,70,45,10,15,5]\n",
    "numbers_tree= build_tree(numbers)\n",
    "print(numbers_tree.in_order_traversal())"
   ]
  }
 ],
 "metadata": {
  "kernelspec": {
   "display_name": "base",
   "language": "python",
   "name": "python3"
  },
  "language_info": {
   "codemirror_mode": {
    "name": "ipython",
    "version": 3
   },
   "file_extension": ".py",
   "mimetype": "text/x-python",
   "name": "python",
   "nbconvert_exporter": "python",
   "pygments_lexer": "ipython3",
   "version": "3.9.13"
  },
  "orig_nbformat": 4
 },
 "nbformat": 4,
 "nbformat_minor": 2
}
