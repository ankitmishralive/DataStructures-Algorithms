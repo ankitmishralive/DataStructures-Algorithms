{
 "cells": [
  {
   "attachments": {},
   "cell_type": "markdown",
   "metadata": {},
   "source": [
    "# *Graph Data Structure* "
   ]
  },
  {
   "attachments": {},
   "cell_type": "markdown",
   "metadata": {},
   "source": [
    "Graph Data Structure is a collection of nodes that have data & are connected to other nodes. \n",
    "\n",
    "Let's try to understand this through an example. \n",
    "\n",
    "On Facebook everything is a node, that includes User, Photo, album, event, group , page , comment , story, video , link etc. Anything that has data is a node. \n",
    "\n",
    "Every relationship is an edge from one node to another. \n",
    "Whenever you post a photo join a group like a page etc, a new edge is created for that relationship.\n",
    "\n",
    "More precisely, a graph is a data structure (V, E) that consists of\n",
    "\n",
    "A collection of vertices V\n",
    "A collection of edges E, represented as ordered pairs of vertices (u,v)"
   ]
  },
  {
   "attachments": {},
   "cell_type": "markdown",
   "metadata": {},
   "source": [
    "- FB uses Graph for showing Friends & Friends suggestion  Undirected Graph\n",
    "- Google Map   \n",
    "- Ecommerce webapps bhi \n",
    "- Flights Routes that is Directed graph"
   ]
  },
  {
   "attachments": {},
   "cell_type": "markdown",
   "metadata": {},
   "source": [
    "Difference Between Trees & Graph\n",
    "\n",
    "\n"
   ]
  },
  {
   "attachments": {},
   "cell_type": "markdown",
   "metadata": {},
   "source": [
    "# *Graph Terminologies*"
   ]
  },
  {
   "attachments": {},
   "cell_type": "markdown",
   "metadata": {},
   "source": [
    "*1. Vertices & Edges* : *Nodes jo hote vo vertices hai & connection between them are Edges*\n",
    "\n",
    "*2. Adjacent vertices* :\n",
    "*if their is direct edge between the vertices  then that is adjacent vertices*\n",
    "\n",
    "*3. Degree*: \n",
    "*1 adjacent pe jitne edges utne degree*\n",
    "\n",
    "*4. Path*:\n",
    "*Collection of edges from 1 node to another node*\n",
    "\n",
    "*5.Connected*:\n"
   ]
  }
 ],
 "metadata": {
  "language_info": {
   "name": "python"
  },
  "orig_nbformat": 4
 },
 "nbformat": 4,
 "nbformat_minor": 2
}
