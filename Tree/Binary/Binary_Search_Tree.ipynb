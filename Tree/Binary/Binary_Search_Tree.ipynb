{
 "cells": [
  {
   "attachments": {},
   "cell_type": "markdown",
   "metadata": {},
   "source": [
    "# *Binary Search Tree*\n",
    "\n",
    "*Set data structure jo hai even ushe implement karnekeliye Binary Search Tree use hotay hai*\n",
    "\n",
    "Binary Search Tree mai every node can has at most 2 nodes. \n",
    "Binary Search tree or BST \n",
    "\n",
    "- mai Left Node ki Subtree mai parent node se value kamm hogi \n",
    "- right side mai parent node se value zyaada hoggi hamesa \n",
    "\n"
   ]
  },
  {
   "attachments": {},
   "cell_type": "markdown",
   "metadata": {},
   "source": [
    "Benefits: \n",
    "\n",
    "- Searching ka Problem Easy hojata hai \n",
    "- Kam Iteration mai humme value milljaati hai \n",
    "\n"
   ]
  },
  {
   "attachments": {},
   "cell_type": "markdown",
   "metadata": {},
   "source": [
    "Search Complexity : Log N hoti hai    \n",
    "Insert Complexity : Log N hoti hai "
   ]
  },
  {
   "attachments": {},
   "cell_type": "markdown",
   "metadata": {},
   "source": [
    "### *if koi element ko dhundna hai yatou iterate krna hoo tou their are 2 ways.*\n",
    " - Breadth First Search \n",
    " - Depth First Search \n",
    "    -  In Order Traversal \n",
    "    -  Pre Order Traversal \n",
    "    -  Post Order Traversal"
   ]
  },
  {
   "attachments": {},
   "cell_type": "markdown",
   "metadata": {},
   "source": [
    "In Order Traversal: [7,12,14,15,20,23,27,28] left,root,right\n",
    "\n",
    "Pre-Order Traversal: [15,12,7,14,27,20,23,88] root,left,right\n",
    "\n",
    "Post Order Traversal : [7,14,12,23,20,88,27,15] left,right, root"
   ]
  },
  {
   "attachments": {},
   "cell_type": "markdown",
   "metadata": {},
   "source": [
    "# *Depth First Search* "
   ]
  }
 ],
 "metadata": {
  "language_info": {
   "name": "python"
  },
  "orig_nbformat": 4
 },
 "nbformat": 4,
 "nbformat_minor": 2
}
