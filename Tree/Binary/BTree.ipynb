{
 "cells": [
  {
   "cell_type": "code",
   "execution_count": 18,
   "metadata": {},
   "outputs": [],
   "source": [
    "class BinaryTreeNode:\n",
    "    def __init__(self,data):\n",
    "        self.data = data \n",
    "        self.children = []\n",
    "        self.parent= None \n",
    "    \n",
    "    def add_child(self,child):\n",
    "        child.parent = self\n",
    "        self.children.append(child)\n",
    "    def get_level(self):\n",
    "        level  = 0 \n",
    "        p = self.parent \n",
    "        while p:\n",
    "            level +=  1 \n",
    "            p = p.parent \n",
    "        return level \n",
    "    \n",
    "    def print_tree(self):\n",
    "        spaces = ' '* self.get_level() * 3\n",
    "        prefix = spaces + \"|__\" if self.parent else \"\"\n",
    "        print(prefix,self.data)\n",
    "\n",
    "        for child in self.children:\n",
    "            child.print_tree()\n",
    "            # print(child.data) \n",
    "        "
   ]
  },
  {
   "cell_type": "code",
   "execution_count": 19,
   "metadata": {},
   "outputs": [
    {
     "name": "stdout",
     "output_type": "stream",
     "text": [
      " Maths\n",
      "   |__ laptop\n",
      "      |__ Mac\n",
      "      |__ Linux\n",
      "   |__ CellPhones\n",
      "      |__ Iphone\n",
      "      |__ Blackberry\n"
     ]
    }
   ],
   "source": [
    "def build_product_tree():\n",
    "    root = BinaryTreeNode('Maths')\n",
    "    laptop = BinaryTreeNode('laptop')\n",
    "    laptop.add_child(BinaryTreeNode('Mac'))\n",
    "    laptop.add_child(BinaryTreeNode('Linux'))\n",
    "\n",
    "    cellPhone = BinaryTreeNode('CellPhones')\n",
    "    cellPhone.add_child(BinaryTreeNode('Iphone'))\n",
    "    cellPhone.add_child(BinaryTreeNode('Blackberry'))\n",
    "\n",
    "    root.add_child(laptop)\n",
    "    root.add_child(cellPhone)\n",
    "\n",
    "    root.print_tree()\n",
    "root = build_product_tree()"
   ]
  }
 ],
 "metadata": {
  "kernelspec": {
   "display_name": "base",
   "language": "python",
   "name": "python3"
  },
  "language_info": {
   "codemirror_mode": {
    "name": "ipython",
    "version": 3
   },
   "file_extension": ".py",
   "mimetype": "text/x-python",
   "name": "python",
   "nbconvert_exporter": "python",
   "pygments_lexer": "ipython3",
   "version": "3.9.13"
  },
  "orig_nbformat": 4
 },
 "nbformat": 4,
 "nbformat_minor": 2
}
