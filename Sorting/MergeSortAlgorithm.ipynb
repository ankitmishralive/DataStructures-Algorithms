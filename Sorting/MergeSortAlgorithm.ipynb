{
 "cells": [
  {
   "attachments": {},
   "cell_type": "markdown",
   "metadata": {},
   "source": [
    "# Merge Sort Algorithm "
   ]
  },
  {
   "attachments": {},
   "cell_type": "markdown",
   "metadata": {},
   "source": [
    "Merge Sort is one of the most popular sorting algorithms that is based on principle of Divide & Conquer.   \n",
    "In merge sort, the problem is divided into multiple sub-problems. Each sub-problems is solved individually. \n",
    "Finally subproblems are combined to form a final solution."
   ]
  },
  {
   "attachments": {},
   "cell_type": "markdown",
   "metadata": {},
   "source": [
    " Python Built in function  sort() it uses a technique called as Timsort which is a hybrid algorithm  that uses Merge Sort & Insertion Sort "
   ]
  },
  {
   "attachments": {},
   "cell_type": "markdown",
   "metadata": {},
   "source": [
    "Worst Time Complexity: O(n*log n)      \n",
    "Space Complexity: O(n)"
   ]
  },
  {
   "attachments": {},
   "cell_type": "markdown",
   "metadata": {},
   "source": [
    "Merge Sort Applications \n",
    "\n",
    "1.) Inversion count problem    \n",
    "2.) External Sorting  \n",
    "3) E-Commerce Applications   "
   ]
  },
  {
   "attachments": {},
   "cell_type": "markdown",
   "metadata": {},
   "source": [
    "Merge 2 Sorted arrays|list \n"
   ]
  },
  {
   "cell_type": "code",
   "execution_count": 1,
   "metadata": {},
   "outputs": [],
   "source": [
    "def merge_2_sorted_list(a,b):\n",
    "    sorted_list = []\n",
    "\n",
    "    len_a = len(a)\n",
    "    len_b = len(b)\n",
    "\n",
    "    i = j = 0 \n",
    "\n",
    "    while i < len_a  and j < len_b:\n",
    "        if a[i] <= b[j]:\n",
    "            sorted_list.append(a[i])\n",
    "            i = i + 1  \n",
    "        else:\n",
    "            sorted_list.append(b[j])\n",
    "            j = j+1\n",
    "    \n",
    "    while i < len_a:\n",
    "        sorted_list.append(a[i])\n",
    "        i = i+1\n",
    "\n",
    "    while j < len_b:\n",
    "        sorted_list.append(b[j])\n",
    "        j = j+1\n",
    "                     \n",
    "    return sorted_list "
   ]
  },
  {
   "cell_type": "code",
   "execution_count": 2,
   "metadata": {},
   "outputs": [
    {
     "name": "stdout",
     "output_type": "stream",
     "text": [
      "[5, 7, 93, 98, 99, 98, 0, 1, 2, 3, 91, 100, 4]\n"
     ]
    }
   ],
   "source": [
    "a = [99,98,0,1,2,3,91]\n",
    "b = [5,7,93,98,100,4]\n",
    "\n",
    "print(merge_2_sorted_list(a,b))"
   ]
  },
  {
   "cell_type": "code",
   "execution_count": null,
   "metadata": {},
   "outputs": [],
   "source": [
    "def merge_sort(array):\n",
    "    if len(array)>1:\n",
    "        left_arr = array[:len(array)//2]\n",
    "        right_arr = array[len(array)//2:]\n",
    "\n",
    "        merge_sort(left_arr)\n",
    "        merge_sort(right_arr)\n",
    "\n",
    "        # left & right dono array sorted order mai hogaye yaha \n",
    "\n",
    "        # merge Step \n",
    "\n",
    "        i = 0 \n",
    "        j = 0 \n",
    "\n",
    "        idx = 0\n",
    "        # while i <len(left_arr) and j <len(right_arr):\n",
    "        #     if left_arr[i]<right_arr[j]:\n",
    "        #         array[idx] = left_arr[i]\n",
    "        #         i += 1 \n",
    "        #         idx += 1 \n",
    "        #     else : \n",
    "        #         array[idx] = right_arr[j]\n",
    "        #         j += 1 \n",
    "        #         idx +=  1 \n",
    "        \n",
    "        # while i < len(left_arr):\n",
    "        #     array[idx] = left_arr[i]\n",
    "        #     i += 1 \n",
    "        #     k += 1\n",
    "        \n",
    "        # while i<len(right_arr):\n",
    "        #     arr[idx] = right_arr[j]\n",
    "\n",
    "    "
   ]
  },
  {
   "attachments": {},
   "cell_type": "markdown",
   "metadata": {},
   "source": [
    "abh ISE kebaad hie clear karunga iska logic "
   ]
  }
 ],
 "metadata": {
  "kernelspec": {
   "display_name": "Python 3",
   "language": "python",
   "name": "python3"
  },
  "language_info": {
   "codemirror_mode": {
    "name": "ipython",
    "version": 3
   },
   "file_extension": ".py",
   "mimetype": "text/x-python",
   "name": "python",
   "nbconvert_exporter": "python",
   "pygments_lexer": "ipython3",
   "version": "3.9.13"
  },
  "orig_nbformat": 4,
  "vscode": {
   "interpreter": {
    "hash": "43a24ecce625020f2d6631fb4cfb730bba30d877e9fe9ec2e0d85cb5a52a2b64"
   }
  }
 },
 "nbformat": 4,
 "nbformat_minor": 2
}
