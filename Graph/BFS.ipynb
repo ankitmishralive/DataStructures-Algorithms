{
 "cells": [
  {
   "attachments": {},
   "cell_type": "markdown",
   "metadata": {},
   "source": [
    "# *Breadth First Search*  \n",
    "Level order traversal \n"
   ]
  },
  {
   "cell_type": "code",
   "execution_count": 2,
   "metadata": {},
   "outputs": [],
   "source": [
    "from collections import deque"
   ]
  },
  {
   "cell_type": "code",
   "execution_count": 18,
   "metadata": {},
   "outputs": [],
   "source": [
    "def bfs(graph,src):\n",
    "    queue = deque()\n",
    "    visited = set() \n",
    "    queue.append(src)\n",
    "    visited.add(src)\n",
    "\n",
    "    while len(queue) >0:\n",
    "        current_vertex = queue.popleft()\n",
    "        print(current_vertex,end=\" \")\n",
    "        \n",
    "        # For Seeing adjacent neighbours \n",
    "        for neighbour in graph[current_vertex]:\n",
    "            if neighbour not in visited: \n",
    "                queue.append(neighbour)\n",
    "                visited.add(neighbour)\n",
    "                 "
   ]
  },
  {
   "cell_type": "code",
   "execution_count": 19,
   "metadata": {},
   "outputs": [
    {
     "name": "stdout",
     "output_type": "stream",
     "text": [
      "1 4 3 5 2 6 "
     ]
    }
   ],
   "source": [
    "graph  = {1:[4],4:[1,3,5],3:[2,4],5:[2,4,6],6:[5],2:[3,5]}\n",
    "bfs(graph,1)# 1 is source "
   ]
  }
 ],
 "metadata": {
  "kernelspec": {
   "display_name": "base",
   "language": "python",
   "name": "python3"
  },
  "language_info": {
   "codemirror_mode": {
    "name": "ipython",
    "version": 3
   },
   "file_extension": ".py",
   "mimetype": "text/x-python",
   "name": "python",
   "nbconvert_exporter": "python",
   "pygments_lexer": "ipython3",
   "version": "3.9.13"
  },
  "orig_nbformat": 4
 },
 "nbformat": 4,
 "nbformat_minor": 2
}
