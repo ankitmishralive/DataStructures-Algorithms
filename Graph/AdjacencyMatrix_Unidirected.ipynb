{
 "cells": [
  {
   "attachments": {},
   "cell_type": "markdown",
   "metadata": {},
   "source": [
    "# *Adjacency Matrix for Unidirected graph* "
   ]
  },
  {
   "cell_type": "code",
   "execution_count": 8,
   "metadata": {},
   "outputs": [],
   "source": [
    "class Graph:\n",
    "\n",
    "    n = 0 \n",
    "    #initialize the graph \n",
    "    g = [[0 for x in range(10)] for y in range(10)]\n",
    "\n",
    "    #constructor \n",
    "    def __init__(self,vertices):\n",
    "        self.n = vertices\n",
    "\n",
    "    def display(self):\n",
    "        for i in range(self.n):\n",
    "            for j in range(self.n):\n",
    "                print(\" \",self.g[i][j],end=\"\")\n",
    "            print()\n",
    "\n",
    "            \n",
    "    def addEdge(self,x,y):\n",
    "        if x==y:\n",
    "            print(\"Same Node, self loop !\")\n",
    "        else:\n",
    "            self.g[x][y]=1\n",
    "            self.g[y][x]=1"
   ]
  },
  {
   "cell_type": "code",
   "execution_count": 27,
   "metadata": {},
   "outputs": [
    {
     "name": "stdout",
     "output_type": "stream",
     "text": [
      "  0  1  1  0\n",
      "  1  0  1  1\n",
      "  1  1  0  0\n",
      "  0  1  0  0\n"
     ]
    }
   ],
   "source": [
    "ob = Graph(4)\n",
    "ob.addEdge(0,1)\n",
    "ob.addEdge(0,2)\n",
    "ob.addEdge(2,1)\n",
    "ob.addEdge(3,1)\n",
    "ob.display()\n"
   ]
  },
  {
   "cell_type": "code",
   "execution_count": 35,
   "metadata": {},
   "outputs": [
    {
     "name": "stdout",
     "output_type": "stream",
     "text": [
      "[[0, 0, 0], [0, 0, 0]]\n"
     ]
    }
   ],
   "source": [
    "g = [[0 for x in range(3)] for y in range(2)]\n",
    "print(g)"
   ]
  }
 ],
 "metadata": {
  "kernelspec": {
   "display_name": "base",
   "language": "python",
   "name": "python3"
  },
  "language_info": {
   "codemirror_mode": {
    "name": "ipython",
    "version": 3
   },
   "file_extension": ".py",
   "mimetype": "text/x-python",
   "name": "python",
   "nbconvert_exporter": "python",
   "pygments_lexer": "ipython3",
   "version": "3.9.13"
  },
  "orig_nbformat": 4
 },
 "nbformat": 4,
 "nbformat_minor": 2
}
